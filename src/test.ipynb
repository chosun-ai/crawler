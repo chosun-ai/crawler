{
 "cells": [
  {
   "cell_type": "code",
   "execution_count": 1,
   "id": "049688ee-590c-4534-87db-7dd95e36b745",
   "metadata": {},
   "outputs": [],
   "source": [
    "import json\n",
    "from selenium import webdriver\n",
    "from selenium.webdriver.common.by import By\n",
    "from selenium.webdriver.chrome.service import Service\n",
    "from webdriver_manager.chrome import ChromeDriverManager\n",
    "from bs4 import BeautifulSoup\n",
    "import time\n",
    "\n",
    "# Chrome 드라이버 설치 및 설정\n",
    "driver = webdriver.Chrome(service=Service(ChromeDriverManager().install()))"
   ]
  },
  {
   "cell_type": "code",
   "execution_count": 2,
   "id": "c15413da-411f-4fed-aab1-034b7d28281b",
   "metadata": {},
   "outputs": [],
   "source": [
    "# 웹사이트 열기\n",
    "url = \"https://sillok.history.go.kr/main/main.do\"\n",
    "driver.get(url)"
   ]
  },
  {
   "cell_type": "code",
   "execution_count": 18,
   "id": "40f3e625-66f7-4fe8-8a6f-adae3b539d98",
   "metadata": {},
   "outputs": [],
   "source": [
    "first_links = driver.find_elements(By.CSS_SELECTOR, \"#m_cont_list a\")  # 모든 <a> 태그 가져오기"
   ]
  },
  {
   "cell_type": "code",
   "execution_count": 19,
   "id": "4d611759-c09e-459d-b9e8-19972fa5f9d7",
   "metadata": {},
   "outputs": [
    {
     "name": "stdout",
     "output_type": "stream",
     "text": [
      "33\n",
      "<selenium.webdriver.remote.webelement.WebElement (session=\"a8dee5bc9bb854ee9688084fb2db93c4\", element=\"f.E582688998BDDD78999DC0E69610BE9A.d.24EC214259521217906B812392CAD1E6.e.1120\")>\n"
     ]
    }
   ],
   "source": [
    "print(len(first_links))\n",
    "if first_links:  # 링크가 존재하면\n",
    "    print(first_links[0])\n",
    "    first_links[0].click()  # 첫 번째 링크 클릭"
   ]
  },
  {
   "cell_type": "code",
   "execution_count": 20,
   "id": "484db1d2-0d1b-46e3-93d2-ad1c223cb37c",
   "metadata": {},
   "outputs": [
    {
     "name": "stdout",
     "output_type": "stream",
     "text": [
      "https://sillok.history.go.kr/search/inspectionMonthList.do;jsessionid=OSryApfZT-tnsDDqM03vBRQrqQUyNryARK5lsOfs.node20\n"
     ]
    }
   ],
   "source": [
    "current_url = driver.current_url\n",
    "print(current_url)"
   ]
  },
  {
   "cell_type": "code",
   "execution_count": 21,
   "id": "1bc32d0f-b51f-4ed5-9096-5bf24a099aec",
   "metadata": {},
   "outputs": [],
   "source": [
    "second_links = driver.find_elements(By.CSS_SELECTOR, \".king_year2.clear2 ul.clear2 a\")  # 모든 <a> 태그 가져오기"
   ]
  },
  {
   "cell_type": "code",
   "execution_count": 22,
   "id": "9b24334d-3e22-4116-ac5c-7a43987626a1",
   "metadata": {},
   "outputs": [
    {
     "name": "stdout",
     "output_type": "stream",
     "text": [
      "<selenium.webdriver.remote.webelement.WebElement (session=\"a8dee5bc9bb854ee9688084fb2db93c4\", element=\"f.E582688998BDDD78999DC0E69610BE9A.d.A4630933452B8316CAEACC82E7732070.e.1158\")>\n"
     ]
    }
   ],
   "source": [
    "len(second_links)\n",
    "if second_links:  # 링크가 존재하면\n",
    "    print(second_links[0])\n",
    "    second_links[0].click()  # 첫 번째 링크 클릭"
   ]
  },
  {
   "cell_type": "code",
   "execution_count": 24,
   "id": "35915e98-9f70-4051-981a-042013817a93",
   "metadata": {},
   "outputs": [],
   "source": [
    "thrid_link = driver.find_elements(By.CSS_SELECTOR, \".ins_list_main li a\")  # 모든 <a> 태그 가져오기"
   ]
  },
  {
   "cell_type": "code",
   "execution_count": 25,
   "id": "419e1c15-c641-40bf-945a-bacd3e05d77b",
   "metadata": {},
   "outputs": [
    {
     "name": "stdout",
     "output_type": "stream",
     "text": [
      "<selenium.webdriver.remote.webelement.WebElement (session=\"a8dee5bc9bb854ee9688084fb2db93c4\", element=\"f.E582688998BDDD78999DC0E69610BE9A.d.1C39FDEB0A38B1555D6DE9AE4CC700BA.e.1290\")>\n"
     ]
    }
   ],
   "source": [
    "len(thrid_link)\n",
    "if thrid_link:  # 링크가 존재하면\n",
    "    print(thrid_link[0])\n",
    "    thrid_link[0].click()  # 첫 번째 링크 클릭"
   ]
  },
  {
   "cell_type": "code",
   "execution_count": 27,
   "id": "a2d497a1-54fd-4dc2-a043-d8d59d3af715",
   "metadata": {},
   "outputs": [
    {
     "name": "stdout",
     "output_type": "stream",
     "text": [
      "태조가 백관의 추대를 받아 수창궁에서 왕위에 오르다\n"
     ]
    }
   ],
   "source": [
    "soup = BeautifulSoup(driver.page_source, 'html.parser')\n",
    "title = soup.find('h3', class_='search_tit').text\n",
    "print(title)"
   ]
  },
  {
   "cell_type": "code",
   "execution_count": 28,
   "id": "e8e1e0b4-6df4-4955-9ae8-193f28685709",
   "metadata": {},
   "outputs": [],
   "source": [
    "content_list = soup.select('.ins_view_left .paragraph')"
   ]
  },
  {
   "cell_type": "code",
   "execution_count": 29,
   "id": "6429f06d-6e50-4d59-af25-3ef0e81243f2",
   "metadata": {},
   "outputs": [
    {
     "name": "stdout",
     "output_type": "stream",
     "text": [
      "태조가수창궁(壽昌宮)에서 왕위에 올랐다. 이보다 먼저 이달 12일에공양왕(恭讓王)이 장차태조의 사제(私第)로 거둥하여 술자리를 베풀고태조와 더불어 동맹(同盟)하려고 하여 의장(儀仗)이 이미 늘어섰는데, 시중(侍中)배극렴(裵克廉)등이 왕대비(王大妃)에게 아뢰었다.\n",
      "\n",
      "\"지금 왕이 혼암(昏暗)하여 임금의 도리를 이미 잃고 인심도 이미 떠나갔으므로, 사직(社稷)과 백성의 주재자(主宰者)가 될 수 없으니 이를 폐하기를 청합니다.\"\n",
      "\n",
      "마침내 왕대비의 교지를 받들어공양왕을 폐하기로 일이 이미 결정되었는데,남은(南誾)이 드디어 문하 평리(門下評理)정희계(鄭熙啓)와 함께 교지를 가지고북천동(北泉洞)의시좌궁(時坐宮)001)에 이르러 교지를 선포하니,공양왕이 부복(俯伏)하고 명령을 듣고 말하기를,\n",
      "\n",
      "\"내가 본디 임금이 되고 싶지 않았는데 여러 신하들이 나를 강제로 왕으로 세웠습니다. 내가 성품이 불민(不敏)하여 사기(事機)를 알지 못하니 어찌 신하의 심정을 거스린 일이 없겠습니까?\"\n",
      "\n",
      "하면서, 이내 울어 눈물이 두서너 줄기 흘러내리었다. 마침내 왕위를 물려주고원주(原州)로 가니, 백관(百官)이 국새(國璽)를 받들어 왕대비전(王大妃殿)에 두고 모든 정무(政務)를 나아가 품명(稟命)하여 재결(裁決)하였다. 13일(임진)에 대비(大妃)가 교지를 선포하여태조를 감록국사(監錄國事)로 삼았다. 16일(을미)에배극렴과조준이정도전·김사형(金士衡)·이제(李濟)·이화(李和)·정희계(鄭熙啓)·이지란(李之蘭)·남은(南誾)·장사길(張思吉)·정총(鄭摠)·김인찬(金仁贊)·조인옥(趙仁沃)·남재(南在)·조박(趙璞)·오몽을(吳蒙乙)·정탁(鄭擢)·윤호(尹虎)·이민도(李敏道)·조견(趙狷)·박포(朴苞)·조영규(趙英珪)·조반(趙胖)·조온(趙溫)·조기(趙琦)·홍길민(洪吉旼)·유경(劉敬)·정용수(鄭龍壽)·장담(張湛)·안경공(安景恭)·김균(金稛)·유원정(柳爰廷)·이직(李稷)·이근(李懃)·오사충(吳思忠)·이서(李舒)·조영무(趙英茂)·이백유(李伯由)·이부(李敷)·김로(金輅)·손흥종(孫興宗)·심효생(沈孝生)·고여(高呂)·장지화(張至和)·함부림(咸傅霖)·한상경(韓尙敬)·황거정(黃居正)·임언충(任彦忠)·장사정(張思靖)·민여익(閔汝翼)등 대소신료(大小臣僚)와 한량기로(閑良耆老) 등이 국새(國璽)를 받들고태조의 저택(邸宅)에 나아가니 사람들이 마을의 골목에 꽉 메어 있었다. 대사헌(大司憲)민개(閔開)가 홀로 기뻐하지 않으면서 얼굴빛에 나타내고, 머리를 기울이고 말하지 않으므로남은이 이를 쳐서 죽이고자 하니, 전하가 말하기를,\n",
      "\n",
      "\"의리상 죽일 수 없다.\"\n",
      "\n",
      "하면서 힘써 이를 말리었다. 이날 마침 족친(族親)의 여러 부인들이태조와강비(康妃)를 알현하고, 물에 만 밥을 먹는데, 여러 부인들이 모두 놀라 두려워하여 북문으로 흩어져 가버렸다.태조는 문을 닫고 들어오지 못하게 했는데, 해 질 무렵에 이르러극렴(克廉)등이 문을 밀치고 바로 내정(內庭)으로 들어와서 국새(國璽)를 청사(廳事) 위에 놓으니,태조가 두려워하여 거조(擧措)를 잃었다.이천우(李天祐)를 붙잡고 겨우 침문(寢門) 밖으로 나오니 백관(百官)이 늘어서서 절하고 북을 치면서 만세(萬歲)를 불렀다.태조가 매우 두려워하면서 스스로 용납할 곳이 없는 듯하니,극렴등이 합사(合辭)하여 왕위에 오르기를 권고하였다.\n",
      "\n",
      "\"나라에 임금이 있는 것은 위로는 사직(社稷)을 받들고 아래로는 백성을 편안하게 할 뿐입니다.고려는 시조(始祖)가 건국(建國)함으로부터 지금까지 거의 5백 년이 되었는데,공민왕에 이르러 아들이 없이 갑자기 세상을 떠나셨습니다. 그 때에 권신(權臣)이 권세를 마음대로 부려 자기의 총행(寵幸)을 견고히 하고자 하여, 거짓으로 요망스런 중[妖僧]신돈(辛旽)의 아들우(禑)를공민왕의 후사(後嗣)라 일컬어 왕위를 도둑질해 있은 지가 15년이 되었으니,왕씨(王氏)의 제사(祭祀)는 이미 폐(廢)해졌던 것입니다.우(禑)가 곧 포학한 짓을 마음대로 행하고 죄 없는 사람을 살육하며, 군대를 일으켜요동(遼東)을 공격하는 지경에 이르렀는데, 공(公)이 맨 먼저 대의(大義)를 주창하여 천자(天子)의 국경을 범할 수 없다고 하고는 군사를 돌이키니,우(禑)는 스스로 그 죄를 알고 두려워하여 왕위를 사양하고 물러났습니다. 이에이색(李穡)·조민수(曹敏修)등이신우(辛禑)의 처부(妻父)인이임(李琳)에게 가담하여 그 아들창(昌)을 도와 왕으로 세웠으니,왕씨(王氏)의 후사(後嗣)가 두 번이나 폐(廢)해졌습니다. 이것은 하늘이 왕위(王位)로써 공(公)에게 명한 시기이었는데도, 공은 겸손하고 사양하여 왕위에 오르지 아니하고정창 부원군(定昌府院君)을 추대하여 임시로 국사(國事)를 서리(署理)하게 했으니, 위태로운 사직(社稷)을 받들어 백성을 편안하게 할 수가 있었습니다. 전일에,신우(辛禑)의 악(惡)은 여러 사람이 다 같이 아는 바인데, 그 무리이색·우현보(禹玄寶)등은 미혹됨을 고집하여 깨닫지 못하고신우(辛禑)를 맞아 그 왕위를 회복할 것을 모의하다가 간사한 죄상이 드러나매, 그 죄를 모면하려고 하여 그 무리윤이(尹彝)·이초(李初)등을 몰래 보내어중국에 도망해 들어가서, ‘본국(本國)002)이 이미 배반했다.’고 거짓으로 호소하고는, 친왕(親王)에게 청하여 천하의 군사를 움직여 장차 본국(本國)을 소탕하고자 하였으니, 그 계책이 과연 행해졌다면 사직(社稷)은 장차 폐허(廢墟)에 이르고 백성도 또한 멸망에 가까울 것입니다. 이것을 차마 하는데 무슨 일을 차마 하지 못하겠습니까? 간관(諫官)과 헌사(憲司)가 소(疏)를 번갈아 올려 계청(啓請)하기를, ‘이색·우현보등이 사직(社稷)에 죄를 얻고 백성에게 화(禍)를 끼쳤으므로써 마땅히 그 죄를 다스려야 되겠습니다.’ 하여 글이 수십 번 올라갔는데,정창군(定昌君)003)은 인아(姻婭)의 관계라는 이유로써 법을 굽혀 두호(斗護)하여 언관(言官)을 곤장을 쳐서 쫓으니, 이로 말미암아 간사한 무리들이 중앙과 지방에 흩어져 있으면서 더욱 법을 두려워하지 않았습니다.\n",
      "\n",
      "김종연(金宗衍)은 도피 중에 있으면서 당(黨)을 결성하여 난리를 꾀하고,김조부(金兆府)등은 안에 있으면서 그 변(變)에 응하기를 도모하여, 화란(禍亂)의 일어남이 날마다 발생하여 그치지 않았는데,정창군(定昌君)은 사직(社稷)과 백성을 위하는 큰 계책을 돌보지 아니하고 사사의 은혜를 베풀어 인망(人望)을 수습하고자 하여, 다만 법을 범한 사람이 있으면 반드시 모두 용서해 주고 곡진히 더 탁용(擢用)하였으니,《서경(書經)》의 이른바, ‘달아난 죄수를 수용하는 괴수가 되어 물고기가 연못에 모이듯, 짐승이 숲에 모이듯 한다.’는 것입니다. 도와서 왕을 세울 계책을 결정한 것으로써 말한다면 공로가 사직(社稷)에 있으며, 대의(大義)를 주창하여 군사를 돌이킨 것으로써 말한다면 덕택이 백성에게 가해졌는데도, 이에 좌우에 있는 부인(婦人)과 환자(宦者)의 참소를 지나치게 듣고서 반드시 죽을 곳에 두려고 하고, 사람들이 강직하여 아첨하지 않는 사람이 있으면 또한 모두 죄를 주니, 참소하고 아첨한 무리들이 뜻대로 되고, 충성하고 선량한 사람들은 기(氣)가 꺾여져서, 정치와 형벌이 문란하여 백성들이 그 수족(手足)을 둘 데가 없었습니다. 하늘이 견책(譴責)하는 뜻을 알려서, 성상(星象)이 여러 번 변하고요얼(妖孽)004)이 번갈아 일어나니,정창군(定昌君)도 스스로 임금의 도리를 이미 잃고 백성의 마음이 이미 떠나가서 사직과 백성의 주재자(主宰者)가 될 수 없음을 물어 알고 물러나와 사제(私第)로 갔습니다. 다만 군정(軍政)과 국정(國政)의 사무는 지극히 번거롭고 지극히 중대하므로, 하루라도 통솔이 없어서는 안 될 것이니, 마땅히 왕위에 올라서 신(神)과 사람의 기대에 부응하소서.\"\n",
      "\n",
      "태조는 굳이 거절하면서 말하기를,\n",
      "\n",
      "\"예로부터 제왕(帝王)의 일어남은 천명(天命)이 있지 않으면 되지 않는다. 나는 실로 덕(德)이 없는 사람인데 어찌 감히 이를 감당하겠는가?\"\n",
      "\n",
      "하면서, 마침내 응답하지 아니하였다. 대소 신료(大小臣僚)와 한량(閑良)·기로(耆老) 등이 부축하여 호위하고 물러가지 않으면서 왕위에 오르기를 권고함이 더욱 간절하니, 이날에 이르러태조가 마지못하여수창궁(壽昌宮)으로 거둥하게 되었다. 백관(百官)들이 궁문(宮門) 서쪽에서 줄을 지어 영접하니,태조는 말에서 내려 걸어서 전(殿)으로 들어가 왕위에 오르는데, 어좌(御座)를 피하고 기둥 안[楹內]에 서서 여러 신하들의 조하(朝賀)를 받았다. 육조(六曹)의 판서(判書) 이상의 관원에게 명하여 전상(殿上)에 오르게 하고는 이르기를,\n",
      "\n",
      "\"내가 수상(首相)이 되어서도 오히려 두려워하는 생각을 가지고 항상 직책을 다하지 못할까 두려워하였는데, 어찌 오늘날 이 일을 볼 것이라 생각했겠는가? 내가 만약 몸만 건강하다면, 필마(匹馬)로도 피할 수 있지마는, 마침 지금은 병에 걸려 손·발을 제대로 쓸 수 없는데 이 지경에 이르렀으니, 경(卿)들은 마땅히 각자가 마음과 힘을 합하여 덕이 적은 사람을 보좌하라.\"\n",
      "\n",
      "하였다. 이에 명하여고려왕조의 중앙과 지방의 대소 신료(大小臣僚)들에게 예전대로 정무(政務)를 보게 하고, 드디어 저택(邸宅)으로 돌아왔다.\n",
      "\n",
      "\n"
     ]
    }
   ],
   "source": [
    "content_all = ''\n",
    "for content in content_list:\n",
    "    content_all += content.get_text(strip=True)  # 기존 내용에 추가\n",
    "    content_all += '\\n\\n'  # 줄 바꿈 추가\n",
    "\n",
    "print(content_all)"
   ]
  },
  {
   "cell_type": "code",
   "execution_count": 31,
   "id": "d1097243-64ed-4dd4-aaaa-2fccd146f084",
   "metadata": {},
   "outputs": [],
   "source": [
    "driver.back()"
   ]
  },
  {
   "cell_type": "code",
   "execution_count": 49,
   "id": "fe890435-0816-43d3-8129-377aba569f85",
   "metadata": {},
   "outputs": [
    {
     "name": "stdout",
     "output_type": "stream",
     "text": [
      "\n",
      "\t\t\t\t\n",
      "\t\t\t\t\t\n",
      "\t\t\t\t\t태조실록1권, 태조 1년 7월 17일 병신 1번째기사\n",
      "\t\t\t\t\t\t\t\n",
      "\t\t\t\t\t\t\t\t\n",
      "\t\t\t\t\t\t\t\t\t\n",
      "\t\t\t\t\t\t\t\t\t\n",
      "\t\t\t\t\t\t\t\t\t\n",
      "\t\t\t\t\t\t\t\t\t\n",
      "\t\t\t\t\t\t\t\t\t\t1392년 명 홍무(洪武) 25년\n",
      "\t\t\t\t\t\t\t\t\t\n",
      "\t\t\t\t\t\t\t\t\n",
      "\t\t\t\t\t\t\t\n",
      "\n"
     ]
    }
   ],
   "source": [
    "soup = BeautifulSoup(driver.page_source, 'html.parser')\n",
    "title_list = soup.find('span', class_='tit_loc')\n",
    "\n",
    "print(title_list.text)"
   ]
  },
  {
   "cell_type": "code",
   "execution_count": 56,
   "id": "335a55e0-d24b-4d0f-97ba-1286f6dce4bd",
   "metadata": {},
   "outputs": [
    {
     "name": "stdout",
     "output_type": "stream",
     "text": [
      "태조실록1권, 태조 1년 7월 17일 병신 1번째기사 1392년 명 홍무(洪武) 25년\n",
      "[]\n",
      "[]\n"
     ]
    }
   ],
   "source": [
    "import re\n",
    "\n",
    "# 정규식 패턴 정의 (실록, 일기, 초본, 정오, 부록을 포함)\n",
    "pattern = r\"(\\S+?(실록|일기|초본|정오|부록))\\s*(\\d+)권.*?(\\d{4}년\\s*\\d+월\\s*\\d+일)\"\n",
    "\n",
    "\n",
    "# 정규식 검색\n",
    "clean_text = \" \".join(title_list.text.split())\n",
    "print(clean_text)\n",
    "matches = re.findall(pattern, clean_text)\n",
    "print(matches)\n",
    "\n",
    "# 결과 출력\n",
    "results = [f\"{match[0]}, {match[2]}권, {match[3]}\" for match in matches]\n",
    "\n",
    "print(results)\n",
    "for result in results:\n",
    "    print(result)"
   ]
  },
  {
   "cell_type": "code",
   "execution_count": 118,
   "id": "4e15848c-52ce-4f1f-b61d-a7046e7e96ce",
   "metadata": {},
   "outputs": [],
   "source": [
    "def convert_text(text):\n",
    "    pattern = re.compile(r\"(\\w+실록)(\\d+)권\")\n",
    "    pattern_2 = re.compile(r\"(\\d{4})년\")\n",
    "    pattern_3 = re.compile(r\"(\\d+)월 (\\d+)일\")\n",
    "    \n",
    "    matches = pattern.findall(text)\n",
    "    matches_2 = pattern_2.findall(text)\n",
    "    matches_3 = pattern_3.findall(text)\n",
    "\n",
    "    print(matches[0][0])\n",
    "    result = {\n",
    "        \"title\": matches[0][0],\n",
    "        \"number\": matches[0][1],\n",
    "        \"date\": f\"{matches_2[0]}-{matches_3[0][0]}-{matches_3[0][1]}\"\n",
    "    }\n",
    "    return result"
   ]
  },
  {
   "cell_type": "code",
   "execution_count": 119,
   "id": "3b4b6e95-582c-408b-90e6-8b1281cfce04",
   "metadata": {},
   "outputs": [
    {
     "name": "stdout",
     "output_type": "stream",
     "text": [
      "태조실록\n"
     ]
    },
    {
     "data": {
      "text/plain": [
       "{'title': '태조실록', 'number': '1', 'date': '1392-7-17'}"
      ]
     },
     "execution_count": 119,
     "metadata": {},
     "output_type": "execute_result"
    }
   ],
   "source": [
    "convert_text(clean_text)"
   ]
  },
  {
   "cell_type": "code",
   "execution_count": 104,
   "id": "bbc2229e-89e2-4ba2-9ed3-3b1398a8d10e",
   "metadata": {},
   "outputs": [],
   "source": []
  },
  {
   "cell_type": "code",
   "execution_count": 107,
   "id": "707edbe6-ea67-4885-965d-2580340ccf36",
   "metadata": {},
   "outputs": [
    {
     "name": "stdout",
     "output_type": "stream",
     "text": [
      "[('태조실록', '1')]\n",
      "['1392']\n",
      "[('7', '17')]\n"
     ]
    }
   ],
   "source": [
    "print(matches)\n",
    "print(matches_2)\n",
    "print(matches_3)"
   ]
  },
  {
   "cell_type": "code",
   "execution_count": 106,
   "id": "1e368095-1dee-4733-92ee-b9a539c675a8",
   "metadata": {},
   "outputs": [
    {
     "ename": "SyntaxError",
     "evalue": "unexpected EOF while parsing (4091033783.py, line 1)",
     "output_type": "error",
     "traceback": [
      "\u001b[0;36m  Cell \u001b[0;32mIn[106], line 1\u001b[0;36m\u001b[0m\n\u001b[0;31m    type(clean_text\u001b[0m\n\u001b[0m                   ^\u001b[0m\n\u001b[0;31mSyntaxError\u001b[0m\u001b[0;31m:\u001b[0m unexpected EOF while parsing\n"
     ]
    }
   ],
   "source": [
    "type(clean_text"
   ]
  },
  {
   "cell_type": "code",
   "execution_count": null,
   "id": "57114f2c-adc4-430d-998e-42c93c64bf17",
   "metadata": {},
   "outputs": [],
   "source": []
  }
 ],
 "metadata": {
  "kernelspec": {
   "display_name": "chosun",
   "language": "python",
   "name": "myenv"
  },
  "language_info": {
   "codemirror_mode": {
    "name": "ipython",
    "version": 3
   },
   "file_extension": ".py",
   "mimetype": "text/x-python",
   "name": "python",
   "nbconvert_exporter": "python",
   "pygments_lexer": "ipython3",
   "version": "3.9.13"
  }
 },
 "nbformat": 4,
 "nbformat_minor": 5
}
